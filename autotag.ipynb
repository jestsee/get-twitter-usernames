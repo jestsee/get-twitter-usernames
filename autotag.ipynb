{
 "cells": [
  {
   "cell_type": "code",
   "execution_count": 1,
   "id": "3ca2d83d",
   "metadata": {},
   "outputs": [],
   "source": [
    "from msedge.selenium_tools import Edge, EdgeOptions\n",
    "from time import sleep\n",
    "from selenium.common.exceptions import NoSuchElementException"
   ]
  },
  {
   "cell_type": "code",
   "execution_count": 2,
   "id": "662d23f9",
   "metadata": {},
   "outputs": [],
   "source": [
    "options = EdgeOptions()\n",
    "options.use_chromium = True\n",
    "driver = Edge(options=options)"
   ]
  },
  {
   "cell_type": "code",
   "execution_count": 4,
   "id": "6d580926",
   "metadata": {},
   "outputs": [],
   "source": [
    "url = 'https://twitter.com/OOTDFESS/status/1459562954274136066'\n",
    "driver.get(url)"
   ]
  },
  {
   "cell_type": "code",
   "execution_count": 6,
   "id": "8d056f37",
   "metadata": {},
   "outputs": [],
   "source": [
    "cards = driver.find_elements_by_xpath(\n",
    "    '//article[@data-testid=\"tweet\"]')"
   ]
  },
  {
   "cell_type": "code",
   "execution_count": 15,
   "id": "3a3cee20",
   "metadata": {},
   "outputs": [],
   "source": [
    "card = cards[1]"
   ]
  },
  {
   "cell_type": "code",
   "execution_count": 16,
   "id": "f7634254",
   "metadata": {},
   "outputs": [
    {
     "data": {
      "text/plain": [
       "'raissa kinda ia ◡̈'"
      ]
     },
     "execution_count": 16,
     "metadata": {},
     "output_type": "execute_result"
    }
   ],
   "source": [
    "# dapetnya display name\n",
    "card.find_element_by_xpath(\n",
    "    './div/div/div/div[2]/div[2]/div[1]//span').text"
   ]
  },
  {
   "cell_type": "code",
   "execution_count": 17,
   "id": "bff8498d",
   "metadata": {},
   "outputs": [
    {
     "data": {
      "text/plain": [
       "'@terlahirmanis'"
      ]
     },
     "execution_count": 17,
     "metadata": {},
     "output_type": "execute_result"
    }
   ],
   "source": [
    "# ini baru username\n",
    "card.find_element_by_xpath(\n",
    "    './/span[contains(text(),\"@\")]').text"
   ]
  },
  {
   "cell_type": "code",
   "execution_count": 18,
   "id": "85e186b9",
   "metadata": {},
   "outputs": [
    {
     "data": {
      "text/plain": [
       "'raissa kinda ia ◡̈'"
      ]
     },
     "execution_count": 18,
     "metadata": {},
     "output_type": "execute_result"
    }
   ],
   "source": [
    "card.find_element_by_xpath(\n",
    "    './/span').text"
   ]
  },
  {
   "cell_type": "code",
   "execution_count": 20,
   "id": "d516aa82",
   "metadata": {},
   "outputs": [],
   "source": [
    "def get_username(card):\n",
    "    username = card.find_element_by_xpath(\n",
    "    './/span[contains(text(),\"@\")]').text\n",
    "    return username"
   ]
  },
  {
   "cell_type": "code",
   "execution_count": 21,
   "id": "852381da",
   "metadata": {},
   "outputs": [],
   "source": [
    "usernames = []\n",
    "\n",
    "for card in cards:\n",
    "    uname = get_username(card)\n",
    "    if uname:\n",
    "        usernames.append(uname)"
   ]
  },
  {
   "cell_type": "code",
   "execution_count": 25,
   "id": "74b6c52b",
   "metadata": {},
   "outputs": [
    {
     "data": {
      "text/plain": [
       "'@birunale'"
      ]
     },
     "execution_count": 25,
     "metadata": {},
     "output_type": "execute_result"
    }
   ],
   "source": [
    "usernames[2]"
   ]
  },
  {
   "cell_type": "code",
   "execution_count": 26,
   "id": "03183bfb",
   "metadata": {},
   "outputs": [],
   "source": [
    "driver.execute_script('window.scrollTo(0, document.body.scrollHeight);')"
   ]
  },
  {
   "cell_type": "markdown",
   "id": "de1db705",
   "metadata": {},
   "source": [
    "# Putting it all together"
   ]
  },
  {
   "cell_type": "code",
   "execution_count": 29,
   "id": "1e7b4809",
   "metadata": {},
   "outputs": [],
   "source": [
    "from msedge.selenium_tools import Edge, EdgeOptions\n",
    "from time import sleep\n",
    "from selenium.common.exceptions import NoSuchElementException\n",
    "\n",
    "def get_username(card):\n",
    "    username = card.find_element_by_xpath(\n",
    "    './/span[contains(text(),\"@\")]').text\n",
    "    return username\n",
    "\n",
    "# create instance of web driver\n",
    "options = EdgeOptions()\n",
    "options.use_chromium = True\n",
    "driver = Edge(options=options)\n",
    "\n",
    "# navigate to the link\n",
    "url = 'https://twitter.com/OOTDFESS/status/1459562954274136066'\n",
    "driver.get(url)\n",
    "driver.maximize_window()\n",
    "\n",
    "unames = []\n",
    "last_position = driver.execute_script(\"return window.pageYOffset;\")\n",
    "scrolling = True\n",
    "\n",
    "while scrolling:\n",
    "    page_cards = driver.find_elements_by_xpath(\n",
    "    '//article[@data-testid=\"tweet\"]')\n",
    "    for card in page_cards:\n",
    "        uname = get_username(card)\n",
    "        if uname and uname not in unames:\n",
    "            unames.append(uname)\n",
    "            \n",
    "    scroll_attempt = 0\n",
    "    while True:\n",
    "        # check scroll position\n",
    "        driver.execute_script('window.scrollTo(0, document.body.scrollHeight);')\n",
    "        sleep(1)\n",
    "        curr_position = driver.execute_script(\"return window.pageYOffset;\")\n",
    "\n",
    "        if last_position == curr_position:\n",
    "            scroll_attempt += 1\n",
    "            \n",
    "            # end of scroll region\n",
    "            if scroll_attempt >= 3:\n",
    "                scrolling = False\n",
    "                break\n",
    "            else:\n",
    "                sleep(2)\n",
    "        else:\n",
    "            last_position = curr_position\n",
    "            break"
   ]
  },
  {
   "cell_type": "code",
   "execution_count": 30,
   "id": "c550bcc5",
   "metadata": {},
   "outputs": [
    {
     "data": {
      "text/plain": [
       "['@OOTDFESS',\n",
       " '@terlahirmanis',\n",
       " '@birunale',\n",
       " '@racunnn____',\n",
       " '@hwnghaje_',\n",
       " '@skysnou',\n",
       " '@mbakbageur',\n",
       " '@ismiii97',\n",
       " '@moonjinniiee_',\n",
       " '@luveliily',\n",
       " '@kookoophi',\n",
       " '@sungchancityx',\n",
       " '@cimonila',\n",
       " '@00CTY',\n",
       " '@pii04_',\n",
       " '@fdlaisyah',\n",
       " '@twentysevenqia_',\n",
       " '@Jeonetaemin',\n",
       " '@ardhianindita',\n",
       " '@helloerinda',\n",
       " '@yoondooun',\n",
       " '@notyourbae_e',\n",
       " '@indoumiee',\n",
       " '@affogatosbux',\n",
       " '@christjaem',\n",
       " '@Almaakw',\n",
       " '@brilia_nt',\n",
       " '@CIZYNI',\n",
       " '@hazelnutbloo',\n",
       " '@ahyangbeneraja',\n",
       " '@enjitaesuga',\n",
       " '@samoesky',\n",
       " '@shinecyoniie',\n",
       " '@qiaakulii',\n",
       " '@urbubbbb',\n",
       " '@classyteeny',\n",
       " '@chncoooo',\n",
       " '@Sweetychizu',\n",
       " '@gelologist',\n",
       " '@berliannada_',\n",
       " '@erinagrnd3',\n",
       " '@ayangwonu',\n",
       " '@onyourm__ang',\n",
       " '@vanillalathea',\n",
       " '@capekbanget17',\n",
       " '@_k1mbum',\n",
       " '@jenooOOO12',\n",
       " '@cheesemayos',\n",
       " '@crushnx',\n",
       " '@rice_cacce',\n",
       " '@eitxwa',\n",
       " '@thancuuu',\n",
       " '@sucgarluck',\n",
       " '@jaechanbiii',\n",
       " '@finehanaa',\n",
       " '@toopriti',\n",
       " '@bblybluez',\n",
       " '@akuchiatoo',\n",
       " '@skyjeoniverse',\n",
       " '@hyuckeren',\n",
       " '@delsgv',\n",
       " '@Whoismw',\n",
       " '@cita_ta30']"
      ]
     },
     "execution_count": 30,
     "metadata": {},
     "output_type": "execute_result"
    }
   ],
   "source": [
    "unames"
   ]
  }
 ],
 "metadata": {
  "kernelspec": {
   "display_name": "Python 3 (ipykernel)",
   "language": "python",
   "name": "python3"
  },
  "language_info": {
   "codemirror_mode": {
    "name": "ipython",
    "version": 3
   },
   "file_extension": ".py",
   "mimetype": "text/x-python",
   "name": "python",
   "nbconvert_exporter": "python",
   "pygments_lexer": "ipython3",
   "version": "3.9.7"
  }
 },
 "nbformat": 4,
 "nbformat_minor": 5
}
