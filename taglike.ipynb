{
 "cells": [
  {
   "cell_type": "code",
   "execution_count": 45,
   "id": "f93f7715",
   "metadata": {},
   "outputs": [],
   "source": [
    "from msedge.selenium_tools import Edge, EdgeOptions\n",
    "from time import sleep\n",
    "from selenium.common.exceptions import NoSuchElementException\n",
    "from selenium.webdriver.common.keys import Keys\n",
    "from getpass import getpass"
   ]
  },
  {
   "cell_type": "code",
   "execution_count": 46,
   "id": "16bd530c",
   "metadata": {},
   "outputs": [],
   "source": [
    "options = EdgeOptions()\n",
    "options.use_chromium = True\n",
    "driver = Edge(options=options)"
   ]
  },
  {
   "cell_type": "code",
   "execution_count": 49,
   "id": "c41e049f",
   "metadata": {},
   "outputs": [],
   "source": [
    "# belom handle error\n",
    "driver.get('https://www.twitter.com/login')"
   ]
  },
  {
   "cell_type": "code",
   "execution_count": 50,
   "id": "b5ca1b4a",
   "metadata": {},
   "outputs": [],
   "source": [
    "username = driver.find_element_by_xpath('//input[@autocomplete=\"username\"]')\n",
    "username.send_keys('roasteanne')"
   ]
  },
  {
   "cell_type": "code",
   "execution_count": 51,
   "id": "60510c0e",
   "metadata": {},
   "outputs": [],
   "source": [
    "username.send_keys(Keys.RETURN)"
   ]
  },
  {
   "cell_type": "code",
   "execution_count": 54,
   "id": "42868701",
   "metadata": {},
   "outputs": [
    {
     "name": "stdout",
     "output_type": "stream",
     "text": [
      "········\n"
     ]
    }
   ],
   "source": [
    "my_password = getpass()"
   ]
  },
  {
   "cell_type": "code",
   "execution_count": 55,
   "id": "9412caf0",
   "metadata": {},
   "outputs": [],
   "source": [
    "password = driver.find_element_by_xpath('//input[@autocomplete=\"current-password\"]')\n",
    "password.send_keys(my_password)"
   ]
  },
  {
   "cell_type": "code",
   "execution_count": 56,
   "id": "e338811b",
   "metadata": {},
   "outputs": [],
   "source": [
    "password.send_keys(Keys.RETURN)"
   ]
  },
  {
   "cell_type": "code",
   "execution_count": 75,
   "id": "ebc8ebb9",
   "metadata": {},
   "outputs": [],
   "source": [
    "# mesti login dulu\n",
    "url = 'https://twitter.com/OOTDFESS/status/1472246529020727296' + '/likes'\n",
    "driver.get(url)"
   ]
  },
  {
   "cell_type": "code",
   "execution_count": 15,
   "id": "65893d6a",
   "metadata": {},
   "outputs": [],
   "source": [
    "cards = driver.find_elements_by_xpath(\n",
    "    '//div[@aria-label=\"Timeline: Liked by\"]//div[@data-testid=\"UserCell\"]')"
   ]
  },
  {
   "cell_type": "code",
   "execution_count": 55,
   "id": "96e94b90",
   "metadata": {},
   "outputs": [],
   "source": [
    "card = cards[2]"
   ]
  },
  {
   "cell_type": "code",
   "execution_count": 56,
   "id": "befaec8e",
   "metadata": {},
   "outputs": [
    {
     "data": {
      "text/plain": [
       "'@rxedrxose_'"
      ]
     },
     "execution_count": 56,
     "metadata": {},
     "output_type": "execute_result"
    }
   ],
   "source": [
    "card.find_element_by_xpath(\n",
    "    './/span[contains(text(),\"@\")]').text"
   ]
  },
  {
   "cell_type": "code",
   "execution_count": 28,
   "id": "79b2f717",
   "metadata": {},
   "outputs": [],
   "source": [
    "def get_username(card):\n",
    "    username = card.find_element_by_xpath(\n",
    "    './/span[contains(text(),\"@\")]').text\n",
    "    return username"
   ]
  },
  {
   "cell_type": "code",
   "execution_count": 62,
   "id": "80596a99",
   "metadata": {},
   "outputs": [],
   "source": [
    "usernames = []\n",
    "\n",
    "for card in cards:\n",
    "    uname = get_username(card)\n",
    "    if uname:\n",
    "        usernames.append(uname)"
   ]
  },
  {
   "cell_type": "code",
   "execution_count": 32,
   "id": "9773d5c4",
   "metadata": {
    "scrolled": false
   },
   "outputs": [
    {
     "data": {
      "text/plain": [
       "'https://twitter.com/home'"
      ]
     },
     "execution_count": 32,
     "metadata": {},
     "output_type": "execute_result"
    }
   ],
   "source": [
    "current_url = driver.current_url\n",
    "current_url"
   ]
  },
  {
   "cell_type": "markdown",
   "id": "1ffeeb10",
   "metadata": {},
   "source": [
    "# batas suci"
   ]
  },
  {
   "cell_type": "code",
   "execution_count": 118,
   "id": "e7b52965",
   "metadata": {},
   "outputs": [],
   "source": [
    "# ini ga bisa gatau kenapa\n",
    "scroll_window = driver.find_element_by_xpath('//*[@id=\"layers\"]/div[2]/div/div/div/div/div/div[2]/div[2]/div/div/div')\n",
    "driver.execute_script(\"arguments[0].scrollTo(0, arguments[0].scrollHeight);\", \n",
    "      scroll_window)"
   ]
  },
  {
   "cell_type": "code",
   "execution_count": 94,
   "id": "51ccab6c",
   "metadata": {},
   "outputs": [
    {
     "data": {
      "text/plain": [
       "637"
      ]
     },
     "execution_count": 94,
     "metadata": {},
     "output_type": "execute_result"
    }
   ],
   "source": [
    "driver.execute_script(\"return arguments[0].scrollHeight;\", \n",
    "      pop_up_window)"
   ]
  },
  {
   "cell_type": "code",
   "execution_count": 104,
   "id": "12d90ec8",
   "metadata": {},
   "outputs": [],
   "source": [
    "from selenium.webdriver import ActionChains\n",
    "action = ActionChains(driver)\n",
    "action.move_to_element(pop_up_window).click().perform()"
   ]
  },
  {
   "cell_type": "code",
   "execution_count": 119,
   "id": "efbf5746",
   "metadata": {},
   "outputs": [],
   "source": [
    "unames = []\n",
    "pop_up_window = driver.find_element_by_xpath('//*[@id=\"layers\"]/div[2]/div/div/div/div/div/div[2]/div[2]/div/div/div')\n",
    "last_position = driver.execute_script(\"return arguments[0].scrollHeight;\", \n",
    "      pop_up_window)\n",
    "scrolling = True\n",
    "\n",
    "while scrolling:\n",
    "    page_cards = driver.find_elements_by_xpath(\n",
    "    '//div[@aria-label=\"Timeline: Liked by\"]//div[@data-testid=\"UserCell\"]')\n",
    "    for card in page_cards:\n",
    "        uname = get_username(card)\n",
    "        if uname and uname not in unames:\n",
    "            unames.append(uname)\n",
    "    \n",
    "    scroll_attempt = 0\n",
    "    while True:\n",
    "        # check scroll position\n",
    "        driver.execute_script(\"arguments[0].scrollTo(0, arguments[0].scrollHeight);\", \n",
    "      pop_up_window)\n",
    "        sleep(1)\n",
    "        curr_position = driver.execute_script(\"return arguments[0].scrollHeight;\", \n",
    "      pop_up_window)\n",
    "\n",
    "        if last_position == curr_position:\n",
    "            scroll_attempt += 1\n",
    "            \n",
    "            # end of scroll region\n",
    "            if scroll_attempt >= 3:\n",
    "                scrolling = False\n",
    "                break\n",
    "            else:\n",
    "                sleep(2)\n",
    "        else:\n",
    "            last_position = curr_position\n",
    "            break"
   ]
  },
  {
   "cell_type": "code",
   "execution_count": 121,
   "id": "f61ce60f",
   "metadata": {},
   "outputs": [
    {
     "data": {
      "text/plain": [
       "124"
      ]
     },
     "execution_count": 121,
     "metadata": {},
     "output_type": "execute_result"
    }
   ],
   "source": [
    "len(unames)"
   ]
  },
  {
   "cell_type": "code",
   "execution_count": 122,
   "id": "4a3310eb",
   "metadata": {},
   "outputs": [
    {
     "data": {
      "text/plain": [
       "['@aflorels',\n",
       " '@_bobacott',\n",
       " '@freepassbeste',\n",
       " '@mayarln',\n",
       " '@windyawaliaa_',\n",
       " '@zrrality',\n",
       " '@bonobonoyyya',\n",
       " '@Rissa1245289986',\n",
       " '@sapicoww',\n",
       " '@aphoclipse',\n",
       " '@jayoonoh',\n",
       " '@Okarasa1',\n",
       " '@shuasvnghxxn',\n",
       " '@Triyaaawldry',\n",
       " '@ByMySelf____',\n",
       " '@neixxvy',\n",
       " '@lhsxhere',\n",
       " '@berusahaangmbis',\n",
       " '@bukannalien',\n",
       " '@katrisa__',\n",
       " '@sha_gsy',\n",
       " '@preciousnominn',\n",
       " '@pinnochio_io',\n",
       " '@pacarwoonggi',\n",
       " '@nana_jaem_13',\n",
       " '@cheisecakes',\n",
       " '@piecuddle',\n",
       " '@afxeksi',\n",
       " '@hanfelixx',\n",
       " '@theycallme_cip',\n",
       " '@bisabisasukses',\n",
       " '@yaabiasalaa',\n",
       " '@chocomewwon',\n",
       " '@campuraduknano',\n",
       " '@doyoungcious',\n",
       " '@annisawijy',\n",
       " '@MIEAYAVLUU',\n",
       " '@kopiajasih',\n",
       " '@pwoppcorn',\n",
       " '@alpheartsss',\n",
       " '@162rifka',\n",
       " '@uwuwcow',\n",
       " '@Diasafira77',\n",
       " '@_galuhniken_',\n",
       " '@Ryanaan_',\n",
       " '@dokyunfgsoo',\n",
       " '@masadepaannmuu',\n",
       " '@widyajengs',\n",
       " '@kindjesslyn',\n",
       " '@miyyyyyyyu',\n",
       " '@sweeywoo',\n",
       " '@ursexcgurll',\n",
       " '@caramelalkana',\n",
       " '@isviesa',\n",
       " '@swbynbyn',\n",
       " '@LaelaFaza',\n",
       " '@virgoasw',\n",
       " '@culichuw',\n",
       " '@tukangsadd',\n",
       " '@itsurjae',\n",
       " '@kaiaraia_',\n",
       " '@sukaseafud',\n",
       " '@ahlokepo',\n",
       " '@sbrinashhb',\n",
       " '@hnypieee',\n",
       " '@kentangabc',\n",
       " '@scramblernazz',\n",
       " '@pandemoneium',\n",
       " '@jodohmaskun',\n",
       " '@resonanc33',\n",
       " '@werexo_',\n",
       " '@scorplgurl',\n",
       " '@bibidibabedeboo',\n",
       " '@airmatabadak',\n",
       " '@_sttdiem',\n",
       " '@bondol_png',\n",
       " '@bukanolshop_',\n",
       " '@jejeeeeeel',\n",
       " '@selpchingY',\n",
       " '@iamyyoursss',\n",
       " '@maisabdr',\n",
       " '@paynobreezqx',\n",
       " '@noouww',\n",
       " '@zerobywonn',\n",
       " '@noturrbabby',\n",
       " '@sugharfree',\n",
       " '@loopier95',\n",
       " '@ffdacjs',\n",
       " '@samoesky',\n",
       " '@brodieeyy',\n",
       " '@vidyaardanis',\n",
       " '@xxnapnapdy_twt',\n",
       " '@illegirlfie',\n",
       " '@hilmi_sahlan',\n",
       " '@greekaphroxite',\n",
       " '@rmdhna_',\n",
       " '@yurayyyyyy',\n",
       " '@cutdarathahira',\n",
       " '@skxrfjr',\n",
       " '@pucukubie',\n",
       " '@containrandom',\n",
       " '@sunnyflowsy',\n",
       " '@daughterofemak',\n",
       " '@affogatosbux',\n",
       " '@bbigwincityx',\n",
       " '@Risaannisa_',\n",
       " '@clvudiivixy',\n",
       " '@diniiiiii9',\n",
       " '@lesyeuxdagreys',\n",
       " '@yooprettyasfuck',\n",
       " '@Bdzl__',\n",
       " '@bluesprinng',\n",
       " '@maujadiadudu',\n",
       " '@Preciousarai',\n",
       " '@nouthins',\n",
       " '@Lucynaf_',\n",
       " '@vizxs_',\n",
       " '@rauhlslovely',\n",
       " '@vnflwo',\n",
       " '@dumpiekoun',\n",
       " '@Freaksyarip',\n",
       " '@schrodangerd',\n",
       " '@eldebarang',\n",
       " '@buronansijeki']"
      ]
     },
     "execution_count": 122,
     "metadata": {},
     "output_type": "execute_result"
    }
   ],
   "source": [
    "unames"
   ]
  },
  {
   "cell_type": "code",
   "execution_count": 90,
   "id": "c11d5342",
   "metadata": {},
   "outputs": [],
   "source": [
    "scroll_box = driver.find_element_by_xpath('//div[@aria-labelledby=\"modal-header\"]')\n",
    "last_ht, ht = 0, 1\n",
    "while last_ht != ht:\n",
    "    last_ht = ht\n",
    "    sleep(1)\n",
    "    ht = driver.execute_script(\"\"\"\n",
    "    arguments[0].scrollTo(0, arguments[0].scrollHeight);\n",
    "    return arguments[0].scrollHeight;\n",
    "    \"\"\", scroll_box)"
   ]
  },
  {
   "cell_type": "markdown",
   "id": "21826be2",
   "metadata": {},
   "source": [
    "# Putting it all together"
   ]
  },
  {
   "cell_type": "code",
   "execution_count": 123,
   "id": "f12b9131",
   "metadata": {},
   "outputs": [],
   "source": [
    "from msedge.selenium_tools import Edge, EdgeOptions\n",
    "from time import sleep\n",
    "from selenium.common.exceptions import NoSuchElementException\n",
    "from selenium.webdriver.common.keys import Keys\n",
    "from getpass import getpass\n",
    "\n",
    "def get_username(card):\n",
    "    username = card.find_element_by_xpath(\n",
    "    './/span[contains(text(),\"@\")]').text\n",
    "    return username\n",
    "\n",
    "def login():\n",
    "    sleep(2)\n",
    "    username = driver.find_element_by_xpath('//input[@autocomplete=\"username\"]')\n",
    "    username.send_keys('roasteanne')\n",
    "    username.send_keys(Keys.RETURN)\n",
    "    sleep(2)\n",
    "    password = driver.find_element_by_xpath('//input[@autocomplete=\"current-password\"]')\n",
    "    password.send_keys(my_password)\n",
    "    password.send_keys(Keys.RETURN)\n",
    "\n",
    "# create instance of web driver\n",
    "options = EdgeOptions()\n",
    "options.use_chromium = True\n",
    "driver = Edge(options=options)\n",
    "\n",
    "# navigate to the login page\n",
    "driver.get('https://www.twitter.com/login')\n",
    "driver.maximize_window()\n",
    "\n",
    "# check if we already logged in\n",
    "current_url = driver.current_url\n",
    "\n",
    "if(current_url != \"https://twitter.com/home\"):\n",
    "    # do login procedure\n",
    "    login()\n",
    "\n",
    "# navigate to the link\n",
    "sleep(5)\n",
    "url = 'https://twitter.com/OOTDFESS/status/1469346168245088258' + '/likes'\n",
    "driver.get(url)\n",
    "driver.maximize_window()\n",
    "\n",
    "unames = []\n",
    "\n",
    "# scrolling\n",
    "sleep(2)\n",
    "pop_up_window = driver.find_element_by_xpath('//*[@id=\"layers\"]/div[2]/div/div/div/div/div/div[2]/div[2]/div/div/div')\n",
    "last_position = driver.execute_script(\"return arguments[0].scrollHeight;\", \n",
    "      pop_up_window)\n",
    "scrolling = True\n",
    "\n",
    "while scrolling:\n",
    "    page_cards = driver.find_elements_by_xpath(\n",
    "    '//div[@aria-label=\"Timeline: Liked by\"]//div[@data-testid=\"UserCell\"]')\n",
    "    for card in page_cards:\n",
    "        uname = get_username(card)\n",
    "        if uname and uname not in unames:\n",
    "            unames.append(uname)\n",
    "    \n",
    "    scroll_attempt = 0\n",
    "    while True:\n",
    "        # check scroll position\n",
    "        driver.execute_script(\"arguments[0].scrollTo(0, arguments[0].scrollHeight);\", \n",
    "      pop_up_window)\n",
    "        sleep(1)\n",
    "        curr_position = driver.execute_script(\"return arguments[0].scrollHeight;\", \n",
    "      pop_up_window)\n",
    "\n",
    "        if last_position == curr_position:\n",
    "            scroll_attempt += 1\n",
    "            \n",
    "            # end of scroll region\n",
    "            if scroll_attempt >= 3:\n",
    "                scrolling = False\n",
    "                break\n",
    "            else:\n",
    "                sleep(2)\n",
    "        else:\n",
    "            last_position = curr_position\n",
    "            break"
   ]
  },
  {
   "cell_type": "code",
   "execution_count": 124,
   "id": "a29ddb82",
   "metadata": {},
   "outputs": [
    {
     "data": {
      "text/plain": [
       "80"
      ]
     },
     "execution_count": 124,
     "metadata": {},
     "output_type": "execute_result"
    }
   ],
   "source": [
    "len(unames)"
   ]
  },
  {
   "cell_type": "code",
   "execution_count": 73,
   "id": "c7b7535d",
   "metadata": {},
   "outputs": [],
   "source": [
    "url = 'https://twitter.com/OOTDFESS/status/1469346168245088258' + '/likes'\n",
    "driver.get(url)"
   ]
  },
  {
   "cell_type": "code",
   "execution_count": 59,
   "id": "998ecf53",
   "metadata": {},
   "outputs": [
    {
     "data": {
      "text/plain": [
       "['@par_han12',\n",
       " '@rxedrxose_',\n",
       " '@USherlytri',\n",
       " '@rr_hayu',\n",
       " '@kaiaraia_',\n",
       " '@serexdipityy',\n",
       " '@nonamatcha_',\n",
       " '@shopeeallthings',\n",
       " '@JAYBTCY',\n",
       " '@hilmi_sahlan',\n",
       " '@mydigit4ldiary',\n",
       " '@pacarechan_66',\n",
       " '@patrickbrainn',\n",
       " '@Sigajedotcom',\n",
       " '@deotareeey',\n",
       " '@dipano_o',\n",
       " '@megaystk',\n",
       " '@jnxoxolee',\n",
       " '@inimaret',\n",
       " '@cutdarathahira',\n",
       " '@twilightopium',\n",
       " '@whyntliaa',\n",
       " '@doyoungcious',\n",
       " '@Buayamantul',\n",
       " '@vidiarst_',\n",
       " '@bayirusa_',\n",
       " '@punyamarjan',\n",
       " '@sooyassquad',\n",
       " '@lalisahourIy',\n",
       " '@jnkhourly']"
      ]
     },
     "execution_count": 59,
     "metadata": {},
     "output_type": "execute_result"
    }
   ],
   "source": [
    "unames"
   ]
  },
  {
   "cell_type": "code",
   "execution_count": 77,
   "id": "40b907fb",
   "metadata": {},
   "outputs": [],
   "source": [
    "from msedge.selenium_tools import Edge, EdgeOptions\n",
    "from time import sleep\n",
    "from selenium.common.exceptions import NoSuchElementException\n",
    "\n",
    "def get_username(card):\n",
    "    username = card.find_element_by_xpath(\n",
    "    './/span[contains(text(),\"@\")]').text\n",
    "    return username\n",
    "\n",
    "def click_show():\n",
    "    try:\n",
    "        show = driver.find_element_by_xpath(\n",
    "    '//span[contains(text(),\"Show additional replies\")]/parent::div/parent::div/parent::div/div[2]')\n",
    "        if(show):\n",
    "            show.click()\n",
    "    except NoSuchElementException:\n",
    "        return\n",
    "\n",
    "# create instance of web driver\n",
    "options = EdgeOptions()\n",
    "options.use_chromium = True\n",
    "driver = Edge(options=options)\n",
    "\n",
    "# navigate to the link\n",
    "url = 'https://twitter.com/OOTDFESS/status/1459562954274136066'\n",
    "driver.get(url)\n",
    "driver.maximize_window()\n",
    "\n",
    "unames = []\n",
    "last_position = driver.execute_script(\"return window.pageYOffset;\")\n",
    "scrolling = True\n",
    "\n",
    "while scrolling:\n",
    "    page_cards = driver.find_elements_by_xpath(\n",
    "    '//article[@data-testid=\"tweet\"]')\n",
    "    for card in page_cards:\n",
    "        uname = get_username(card)\n",
    "        if uname and uname not in unames:\n",
    "            unames.append(uname)\n",
    "    click_show()\n",
    "    \n",
    "    scroll_attempt = 0\n",
    "    while True:\n",
    "        # check scroll position\n",
    "        driver.execute_script('window.scrollTo(0, document.body.scrollHeight);')\n",
    "        sleep(1)\n",
    "        curr_position = driver.execute_script(\"return window.pageYOffset;\")\n",
    "\n",
    "        if last_position == curr_position:\n",
    "            scroll_attempt += 1\n",
    "            \n",
    "            # end of scroll region\n",
    "            if scroll_attempt >= 3:\n",
    "                scrolling = False\n",
    "                break\n",
    "            else:\n",
    "                sleep(2)\n",
    "        else:\n",
    "            last_position = curr_position\n",
    "            break"
   ]
  },
  {
   "cell_type": "code",
   "execution_count": 78,
   "id": "11c1b496",
   "metadata": {},
   "outputs": [
    {
     "data": {
      "text/plain": [
       "64"
      ]
     },
     "execution_count": 78,
     "metadata": {},
     "output_type": "execute_result"
    }
   ],
   "source": [
    "len(unames)"
   ]
  },
  {
   "cell_type": "markdown",
   "id": "ae22f3f1",
   "metadata": {},
   "source": [
    "# Alternatif"
   ]
  },
  {
   "cell_type": "code",
   "execution_count": 102,
   "id": "2afeae95",
   "metadata": {},
   "outputs": [
    {
     "name": "stdout",
     "output_type": "stream",
     "text": [
      "@virgousign\n",
      "@littledegem\n"
     ]
    }
   ],
   "source": [
    "from msedge.selenium_tools import Edge, EdgeOptions\n",
    "from time import sleep\n",
    "from selenium.common.exceptions import NoSuchElementException\n",
    "\n",
    "def get_username(card):\n",
    "    username = card.find_element_by_xpath(\n",
    "    './/span[contains(text(),\"@\")]').text\n",
    "    return username\n",
    "\n",
    "def click_show():\n",
    "    try:\n",
    "        show = driver.find_element_by_xpath(\n",
    "    '//span[contains(text(),\"Show additional replies\")]/parent::div/parent::div/parent::div/div[2]')\n",
    "        if(show):\n",
    "            show.click()\n",
    "    except NoSuchElementException:\n",
    "        return\n",
    "\n",
    "# create instance of web driver\n",
    "options = EdgeOptions()\n",
    "options.use_chromium = True\n",
    "driver = Edge(options=options)\n",
    "\n",
    "# navigate to the link\n",
    "url = 'https://twitter.com/OOTDFESS/status/1459562954274136066'\n",
    "driver.get(url)\n",
    "driver.maximize_window()\n",
    "\n",
    "unames = []\n",
    "last_position = driver.execute_script(\"return window.pageYOffset;\")\n",
    "scrolling = True\n",
    "\n",
    "while scrolling:\n",
    "    page_cards = driver.find_elements_by_xpath(\n",
    "    '//article[@data-testid=\"tweet\"]')\n",
    "    for card in page_cards:\n",
    "        uname = get_username(card)\n",
    "        if uname and uname not in unames:\n",
    "            unames.append(uname)\n",
    "    \n",
    "    scroll_attempt = 0\n",
    "    while True:\n",
    "        # check scroll position\n",
    "        driver.execute_script('window.scrollTo(0, document.body.scrollHeight);')\n",
    "        sleep(1)\n",
    "        curr_position = driver.execute_script(\"return window.pageYOffset;\")\n",
    "\n",
    "        if last_position == curr_position:\n",
    "            scroll_attempt += 1\n",
    "            \n",
    "            # end of scroll region\n",
    "            if scroll_attempt >= 3:\n",
    "                scrolling = False\n",
    "                break\n",
    "            else:\n",
    "                sleep(3)\n",
    "        else:\n",
    "            last_position = curr_position\n",
    "            break\n",
    "\n",
    "# udah selesai scrolling, cek hidden rep\n",
    "click_show()\n",
    "sleep(3)\n",
    "final_cards = driver.find_elements_by_xpath(\n",
    "    '//article[@data-testid=\"tweet\"]')\n",
    "for card in final_cards:\n",
    "    uname = get_username(card)\n",
    "    if uname and uname not in unames:\n",
    "        print(uname)\n",
    "        unames.append(uname)"
   ]
  },
  {
   "cell_type": "code",
   "execution_count": 105,
   "id": "259d122c",
   "metadata": {},
   "outputs": [
    {
     "data": {
      "text/plain": [
       "65"
      ]
     },
     "execution_count": 105,
     "metadata": {},
     "output_type": "execute_result"
    }
   ],
   "source": [
    "len(unames)"
   ]
  },
  {
   "cell_type": "code",
   "execution_count": 104,
   "id": "1ccf6bcf",
   "metadata": {},
   "outputs": [
    {
     "name": "stdout",
     "output_type": "stream",
     "text": [
      "@sungchancityx\n",
      "@racunnn____\n",
      "@terlahirmanis\n",
      "@birunale\n",
      "@hwnghaje_\n",
      "@skysnou\n",
      "@mbakbageur\n",
      "@ismiii97\n",
      "@moonjinniiee_\n",
      "@luveliily\n",
      "@kookoophi\n",
      "@00CTY\n",
      "@fdlaisyah\n",
      "@helloerinda\n",
      "@yoondooun\n",
      "@cimonila\n",
      "@pii04_\n",
      "@twentysevenqia_\n",
      "@Jeonetaemin\n",
      "@ardhianindita\n",
      "@notyourbae_e\n",
      "@indoumiee\n",
      "@affogatosbux\n",
      "@christjaem\n",
      "@Almaakw\n",
      "@brilia_nt\n",
      "@CIZYNI\n",
      "@hazelnutbloo\n",
      "@aaaalsyh\n",
      "@Sweetychizu\n",
      "@gelologist\n",
      "@berliannada_\n",
      "@erinagrnd3\n",
      "@ahyangbeneraja\n",
      "@enjitaesuga\n",
      "@samoesky\n",
      "@ayangwonu\n",
      "@shinecyoniie\n",
      "@qiaakulii\n",
      "@urbubbbb\n",
      "@classyteeny\n",
      "@chncoooo\n",
      "@onyourm__ang\n",
      "@vanillalathea\n",
      "@capekbanget17\n",
      "@_k1mbum\n",
      "@jenooOOO12\n",
      "@cheesemayos\n",
      "@crushnx\n",
      "@rice_cacce\n",
      "@eitxwa\n",
      "@thancuuu\n",
      "@sucgarluck\n",
      "@jaechanbiii\n",
      "@finehanaa\n",
      "@toopriti\n",
      "@bblybluez\n",
      "@akuchiatoo\n",
      "@skyjeoniverse\n",
      "@hyuckeren\n",
      "@delsgv\n",
      "@Whoismw\n",
      "@cita_ta30\n",
      "@virgousign\n",
      "@littledegem\n"
     ]
    }
   ],
   "source": [
    "if(\"@OOTDFESS\" in unames):\n",
    "    unames.remove(\"@OOTDFESS\")\n",
    "for u in unames:\n",
    "    print(u)"
   ]
  }
 ],
 "metadata": {
  "kernelspec": {
   "display_name": "Python 3 (ipykernel)",
   "language": "python",
   "name": "python3"
  },
  "language_info": {
   "codemirror_mode": {
    "name": "ipython",
    "version": 3
   },
   "file_extension": ".py",
   "mimetype": "text/x-python",
   "name": "python",
   "nbconvert_exporter": "python",
   "pygments_lexer": "ipython3",
   "version": "3.9.7"
  }
 },
 "nbformat": 4,
 "nbformat_minor": 5
}
